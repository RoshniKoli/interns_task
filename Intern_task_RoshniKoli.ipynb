{
 "cells": [
  {
   "cell_type": "code",
   "execution_count": 4,
   "metadata": {},
   "outputs": [],
   "source": [
    "import pandas as pd\n",
    "import matplotlib.pyplot as plt\n",
    "import seaborn as sns\n",
    "from statsmodels.stats.outliers_influence import variance_inflation_factor\n",
    "\n",
    "%matplotlib inline\n",
    "plt.rcParams[\"figure.figsize\"] = (20,3)\n",
    "\n",
    "from sklearn.model_selection import train_test_split,GridSearchCV,RepeatedStratifiedKFold\n",
    "from sklearn.utils import resample\n",
    "from sklearn.linear_model import LogisticRegression\n",
    "from sklearn.ensemble import RandomForestClassifier\n",
    "from xgboost import XGBClassifier\n"
   ]
  },
  {
   "cell_type": "code",
   "execution_count": 5,
   "metadata": {},
   "outputs": [],
   "source": [
    "data = pd.read_csv(r'C:\\Users\\roshn\\Documents\\GitHub\\interns_task\\taskdata.csv')"
   ]
  },
  {
   "cell_type": "code",
   "execution_count": 6,
   "metadata": {},
   "outputs": [
    {
     "name": "stdout",
     "output_type": "stream",
     "text": [
      "<class 'pandas.core.frame.DataFrame'>\n",
      "RangeIndex: 4407 entries, 0 to 4406\n",
      "Data columns (total 17 columns):\n",
      " #   Column                 Non-Null Count  Dtype  \n",
      "---  ------                 --------------  -----  \n",
      " 0   user_id                4407 non-null   int64  \n",
      " 1   account_id             4400 non-null   float64\n",
      " 2   max_return_days        4407 non-null   int64  \n",
      " 3   average_return_days    4407 non-null   float64\n",
      " 4   customer_since_months  4407 non-null   int64  \n",
      " 5   total_revenue          4407 non-null   float64\n",
      " 6   average_revenue        4407 non-null   float64\n",
      " 7   avg_vas_count          4407 non-null   float64\n",
      " 8   avg_used_vas_value     4407 non-null   float64\n",
      " 9   business_type          4407 non-null   int64  \n",
      " 10  avg_wallet_bonus       4407 non-null   float64\n",
      " 11  avg_active_ads         4407 non-null   float64\n",
      " 12  avg_new_ads            4407 non-null   float64\n",
      " 13  avg_email_replies      4407 non-null   float64\n",
      " 14  avg_call_replies       4407 non-null   float64\n",
      " 15  avg_sms_replies        4407 non-null   float64\n",
      " 16  target                 4407 non-null   int64  \n",
      "dtypes: float64(12), int64(5)\n",
      "memory usage: 585.4 KB\n"
     ]
    }
   ],
   "source": [
    "data.info()"
   ]
  },
  {
   "cell_type": "markdown",
   "metadata": {},
   "source": [
    "account_id has 7 missing values in the first look. The dataset shape is (4407, 17)."
   ]
  },
  {
   "cell_type": "code",
   "execution_count": 7,
   "metadata": {},
   "outputs": [
    {
     "data": {
      "text/html": [
       "<div>\n",
       "<style scoped>\n",
       "    .dataframe tbody tr th:only-of-type {\n",
       "        vertical-align: middle;\n",
       "    }\n",
       "\n",
       "    .dataframe tbody tr th {\n",
       "        vertical-align: top;\n",
       "    }\n",
       "\n",
       "    .dataframe thead th {\n",
       "        text-align: right;\n",
       "    }\n",
       "</style>\n",
       "<table border=\"1\" class=\"dataframe\">\n",
       "  <thead>\n",
       "    <tr style=\"text-align: right;\">\n",
       "      <th></th>\n",
       "      <th>user_id</th>\n",
       "      <th>account_id</th>\n",
       "      <th>max_return_days</th>\n",
       "      <th>average_return_days</th>\n",
       "      <th>customer_since_months</th>\n",
       "      <th>total_revenue</th>\n",
       "      <th>average_revenue</th>\n",
       "      <th>avg_vas_count</th>\n",
       "      <th>avg_used_vas_value</th>\n",
       "      <th>business_type</th>\n",
       "      <th>avg_wallet_bonus</th>\n",
       "      <th>avg_active_ads</th>\n",
       "      <th>avg_new_ads</th>\n",
       "      <th>avg_email_replies</th>\n",
       "      <th>avg_call_replies</th>\n",
       "      <th>avg_sms_replies</th>\n",
       "      <th>target</th>\n",
       "    </tr>\n",
       "  </thead>\n",
       "  <tbody>\n",
       "    <tr>\n",
       "      <th>count</th>\n",
       "      <td>4.407000e+03</td>\n",
       "      <td>4400.000000</td>\n",
       "      <td>4407.000000</td>\n",
       "      <td>4407.000000</td>\n",
       "      <td>4407.000000</td>\n",
       "      <td>4407.000000</td>\n",
       "      <td>4407.000000</td>\n",
       "      <td>4407.000000</td>\n",
       "      <td>4407.000000</td>\n",
       "      <td>4407.000000</td>\n",
       "      <td>4407.000000</td>\n",
       "      <td>4407.000000</td>\n",
       "      <td>4407.000000</td>\n",
       "      <td>4407.000000</td>\n",
       "      <td>4407.000000</td>\n",
       "      <td>4407.000000</td>\n",
       "      <td>4407.000000</td>\n",
       "    </tr>\n",
       "    <tr>\n",
       "      <th>mean</th>\n",
       "      <td>4.106655e+09</td>\n",
       "      <td>506.553864</td>\n",
       "      <td>22.335602</td>\n",
       "      <td>7.171576</td>\n",
       "      <td>9.874064</td>\n",
       "      <td>194.130365</td>\n",
       "      <td>16.942615</td>\n",
       "      <td>3.249388</td>\n",
       "      <td>72.119006</td>\n",
       "      <td>0.497844</td>\n",
       "      <td>338.851046</td>\n",
       "      <td>98.922260</td>\n",
       "      <td>16.812003</td>\n",
       "      <td>25.681004</td>\n",
       "      <td>27.622151</td>\n",
       "      <td>0.162009</td>\n",
       "      <td>0.103245</td>\n",
       "    </tr>\n",
       "    <tr>\n",
       "      <th>std</th>\n",
       "      <td>6.794948e+09</td>\n",
       "      <td>326.072756</td>\n",
       "      <td>43.591246</td>\n",
       "      <td>19.209092</td>\n",
       "      <td>5.169639</td>\n",
       "      <td>1548.361547</td>\n",
       "      <td>128.268824</td>\n",
       "      <td>5.509869</td>\n",
       "      <td>117.019515</td>\n",
       "      <td>1.199725</td>\n",
       "      <td>831.746150</td>\n",
       "      <td>297.692950</td>\n",
       "      <td>68.045904</td>\n",
       "      <td>55.324218</td>\n",
       "      <td>61.069006</td>\n",
       "      <td>0.517693</td>\n",
       "      <td>0.304313</td>\n",
       "    </tr>\n",
       "    <tr>\n",
       "      <th>min</th>\n",
       "      <td>4.100390e+05</td>\n",
       "      <td>111.000000</td>\n",
       "      <td>1.000000</td>\n",
       "      <td>0.500000</td>\n",
       "      <td>1.000000</td>\n",
       "      <td>0.000000</td>\n",
       "      <td>0.000000</td>\n",
       "      <td>0.000000</td>\n",
       "      <td>0.000000</td>\n",
       "      <td>0.000000</td>\n",
       "      <td>0.000000</td>\n",
       "      <td>0.000000</td>\n",
       "      <td>0.000000</td>\n",
       "      <td>0.000000</td>\n",
       "      <td>0.000000</td>\n",
       "      <td>0.000000</td>\n",
       "      <td>0.000000</td>\n",
       "    </tr>\n",
       "    <tr>\n",
       "      <th>25%</th>\n",
       "      <td>6.184510e+08</td>\n",
       "      <td>226.000000</td>\n",
       "      <td>1.000000</td>\n",
       "      <td>1.000000</td>\n",
       "      <td>5.000000</td>\n",
       "      <td>0.000000</td>\n",
       "      <td>0.000000</td>\n",
       "      <td>0.142857</td>\n",
       "      <td>2.727273</td>\n",
       "      <td>0.000000</td>\n",
       "      <td>0.000000</td>\n",
       "      <td>13.500000</td>\n",
       "      <td>2.500000</td>\n",
       "      <td>4.461538</td>\n",
       "      <td>4.384615</td>\n",
       "      <td>0.000000</td>\n",
       "      <td>0.000000</td>\n",
       "    </tr>\n",
       "    <tr>\n",
       "      <th>50%</th>\n",
       "      <td>7.296626e+08</td>\n",
       "      <td>493.000000</td>\n",
       "      <td>2.000000</td>\n",
       "      <td>1.076923</td>\n",
       "      <td>12.000000</td>\n",
       "      <td>0.000000</td>\n",
       "      <td>0.000000</td>\n",
       "      <td>2.000000</td>\n",
       "      <td>45.000000</td>\n",
       "      <td>0.000000</td>\n",
       "      <td>40.000000</td>\n",
       "      <td>40.000000</td>\n",
       "      <td>6.333333</td>\n",
       "      <td>12.266667</td>\n",
       "      <td>12.933333</td>\n",
       "      <td>0.000000</td>\n",
       "      <td>0.000000</td>\n",
       "    </tr>\n",
       "    <tr>\n",
       "      <th>75%</th>\n",
       "      <td>7.292936e+09</td>\n",
       "      <td>1005.000000</td>\n",
       "      <td>30.000000</td>\n",
       "      <td>5.666667</td>\n",
       "      <td>14.000000</td>\n",
       "      <td>0.000000</td>\n",
       "      <td>0.000000</td>\n",
       "      <td>4.333333</td>\n",
       "      <td>100.000000</td>\n",
       "      <td>0.000000</td>\n",
       "      <td>327.280000</td>\n",
       "      <td>101.291667</td>\n",
       "      <td>14.250000</td>\n",
       "      <td>28.000000</td>\n",
       "      <td>30.784615</td>\n",
       "      <td>0.153846</td>\n",
       "      <td>0.000000</td>\n",
       "    </tr>\n",
       "    <tr>\n",
       "      <th>max</th>\n",
       "      <td>7.356031e+10</td>\n",
       "      <td>1017.000000</td>\n",
       "      <td>354.000000</td>\n",
       "      <td>354.000000</td>\n",
       "      <td>24.000000</td>\n",
       "      <td>43957.172700</td>\n",
       "      <td>3852.727273</td>\n",
       "      <td>156.583333</td>\n",
       "      <td>3357.500000</td>\n",
       "      <td>5.000000</td>\n",
       "      <td>15606.500000</td>\n",
       "      <td>9183.866667</td>\n",
       "      <td>2606.000000</td>\n",
       "      <td>1716.400000</td>\n",
       "      <td>1743.266667</td>\n",
       "      <td>14.636364</td>\n",
       "      <td>1.000000</td>\n",
       "    </tr>\n",
       "  </tbody>\n",
       "</table>\n",
       "</div>"
      ],
      "text/plain": [
       "            user_id   account_id  max_return_days  average_return_days  \\\n",
       "count  4.407000e+03  4400.000000      4407.000000          4407.000000   \n",
       "mean   4.106655e+09   506.553864        22.335602             7.171576   \n",
       "std    6.794948e+09   326.072756        43.591246            19.209092   \n",
       "min    4.100390e+05   111.000000         1.000000             0.500000   \n",
       "25%    6.184510e+08   226.000000         1.000000             1.000000   \n",
       "50%    7.296626e+08   493.000000         2.000000             1.076923   \n",
       "75%    7.292936e+09  1005.000000        30.000000             5.666667   \n",
       "max    7.356031e+10  1017.000000       354.000000           354.000000   \n",
       "\n",
       "       customer_since_months  total_revenue  average_revenue  avg_vas_count  \\\n",
       "count            4407.000000    4407.000000      4407.000000    4407.000000   \n",
       "mean                9.874064     194.130365        16.942615       3.249388   \n",
       "std                 5.169639    1548.361547       128.268824       5.509869   \n",
       "min                 1.000000       0.000000         0.000000       0.000000   \n",
       "25%                 5.000000       0.000000         0.000000       0.142857   \n",
       "50%                12.000000       0.000000         0.000000       2.000000   \n",
       "75%                14.000000       0.000000         0.000000       4.333333   \n",
       "max                24.000000   43957.172700      3852.727273     156.583333   \n",
       "\n",
       "       avg_used_vas_value  business_type  avg_wallet_bonus  avg_active_ads  \\\n",
       "count         4407.000000    4407.000000       4407.000000     4407.000000   \n",
       "mean            72.119006       0.497844        338.851046       98.922260   \n",
       "std            117.019515       1.199725        831.746150      297.692950   \n",
       "min              0.000000       0.000000          0.000000        0.000000   \n",
       "25%              2.727273       0.000000          0.000000       13.500000   \n",
       "50%             45.000000       0.000000         40.000000       40.000000   \n",
       "75%            100.000000       0.000000        327.280000      101.291667   \n",
       "max           3357.500000       5.000000      15606.500000     9183.866667   \n",
       "\n",
       "       avg_new_ads  avg_email_replies  avg_call_replies  avg_sms_replies  \\\n",
       "count  4407.000000        4407.000000       4407.000000      4407.000000   \n",
       "mean     16.812003          25.681004         27.622151         0.162009   \n",
       "std      68.045904          55.324218         61.069006         0.517693   \n",
       "min       0.000000           0.000000          0.000000         0.000000   \n",
       "25%       2.500000           4.461538          4.384615         0.000000   \n",
       "50%       6.333333          12.266667         12.933333         0.000000   \n",
       "75%      14.250000          28.000000         30.784615         0.153846   \n",
       "max    2606.000000        1716.400000       1743.266667        14.636364   \n",
       "\n",
       "            target  \n",
       "count  4407.000000  \n",
       "mean      0.103245  \n",
       "std       0.304313  \n",
       "min       0.000000  \n",
       "25%       0.000000  \n",
       "50%       0.000000  \n",
       "75%       0.000000  \n",
       "max       1.000000  "
      ]
     },
     "execution_count": 7,
     "metadata": {},
     "output_type": "execute_result"
    }
   ],
   "source": [
    "data.describe()"
   ]
  },
  {
   "cell_type": "code",
   "execution_count": 8,
   "metadata": {},
   "outputs": [
    {
     "data": {
      "text/html": [
       "<div>\n",
       "<style scoped>\n",
       "    .dataframe tbody tr th:only-of-type {\n",
       "        vertical-align: middle;\n",
       "    }\n",
       "\n",
       "    .dataframe tbody tr th {\n",
       "        vertical-align: top;\n",
       "    }\n",
       "\n",
       "    .dataframe thead th {\n",
       "        text-align: right;\n",
       "    }\n",
       "</style>\n",
       "<table border=\"1\" class=\"dataframe\">\n",
       "  <thead>\n",
       "    <tr style=\"text-align: right;\">\n",
       "      <th></th>\n",
       "      <th>user_id</th>\n",
       "      <th>account_id</th>\n",
       "      <th>max_return_days</th>\n",
       "      <th>average_return_days</th>\n",
       "      <th>customer_since_months</th>\n",
       "      <th>total_revenue</th>\n",
       "      <th>average_revenue</th>\n",
       "      <th>avg_vas_count</th>\n",
       "      <th>avg_used_vas_value</th>\n",
       "      <th>business_type</th>\n",
       "      <th>avg_wallet_bonus</th>\n",
       "      <th>avg_active_ads</th>\n",
       "      <th>avg_new_ads</th>\n",
       "      <th>avg_email_replies</th>\n",
       "      <th>avg_call_replies</th>\n",
       "      <th>avg_sms_replies</th>\n",
       "      <th>target</th>\n",
       "    </tr>\n",
       "  </thead>\n",
       "  <tbody>\n",
       "    <tr>\n",
       "      <th>0</th>\n",
       "      <td>410039</td>\n",
       "      <td>496.0</td>\n",
       "      <td>8</td>\n",
       "      <td>1.500000</td>\n",
       "      <td>14</td>\n",
       "      <td>0.0</td>\n",
       "      <td>0.0</td>\n",
       "      <td>3.666667</td>\n",
       "      <td>66.666667</td>\n",
       "      <td>0</td>\n",
       "      <td>300.00</td>\n",
       "      <td>79.333333</td>\n",
       "      <td>15.250000</td>\n",
       "      <td>32.416667</td>\n",
       "      <td>27.916667</td>\n",
       "      <td>0.250000</td>\n",
       "      <td>0</td>\n",
       "    </tr>\n",
       "    <tr>\n",
       "      <th>1</th>\n",
       "      <td>410240</td>\n",
       "      <td>499.0</td>\n",
       "      <td>37</td>\n",
       "      <td>8.200000</td>\n",
       "      <td>10</td>\n",
       "      <td>0.0</td>\n",
       "      <td>0.0</td>\n",
       "      <td>4.900000</td>\n",
       "      <td>114.000000</td>\n",
       "      <td>0</td>\n",
       "      <td>0.00</td>\n",
       "      <td>232.100000</td>\n",
       "      <td>18.300000</td>\n",
       "      <td>16.200000</td>\n",
       "      <td>13.800000</td>\n",
       "      <td>0.000000</td>\n",
       "      <td>0</td>\n",
       "    </tr>\n",
       "    <tr>\n",
       "      <th>2</th>\n",
       "      <td>411764</td>\n",
       "      <td>493.0</td>\n",
       "      <td>9</td>\n",
       "      <td>1.533333</td>\n",
       "      <td>15</td>\n",
       "      <td>0.0</td>\n",
       "      <td>0.0</td>\n",
       "      <td>5.333333</td>\n",
       "      <td>106.666667</td>\n",
       "      <td>0</td>\n",
       "      <td>150.00</td>\n",
       "      <td>55.083333</td>\n",
       "      <td>3.750000</td>\n",
       "      <td>20.250000</td>\n",
       "      <td>24.500000</td>\n",
       "      <td>0.000000</td>\n",
       "      <td>0</td>\n",
       "    </tr>\n",
       "    <tr>\n",
       "      <th>3</th>\n",
       "      <td>411985</td>\n",
       "      <td>262.0</td>\n",
       "      <td>1</td>\n",
       "      <td>1.000000</td>\n",
       "      <td>14</td>\n",
       "      <td>0.0</td>\n",
       "      <td>0.0</td>\n",
       "      <td>6.307692</td>\n",
       "      <td>176.153846</td>\n",
       "      <td>0</td>\n",
       "      <td>1481.00</td>\n",
       "      <td>409.538462</td>\n",
       "      <td>80.769231</td>\n",
       "      <td>87.461538</td>\n",
       "      <td>57.615385</td>\n",
       "      <td>0.000000</td>\n",
       "      <td>1</td>\n",
       "    </tr>\n",
       "    <tr>\n",
       "      <th>4</th>\n",
       "      <td>412071</td>\n",
       "      <td>496.0</td>\n",
       "      <td>1</td>\n",
       "      <td>1.000000</td>\n",
       "      <td>18</td>\n",
       "      <td>0.0</td>\n",
       "      <td>0.0</td>\n",
       "      <td>5.846154</td>\n",
       "      <td>109.230769</td>\n",
       "      <td>0</td>\n",
       "      <td>41.50</td>\n",
       "      <td>48.230769</td>\n",
       "      <td>1.692308</td>\n",
       "      <td>17.461538</td>\n",
       "      <td>25.769231</td>\n",
       "      <td>0.230769</td>\n",
       "      <td>0</td>\n",
       "    </tr>\n",
       "    <tr>\n",
       "      <th>5</th>\n",
       "      <td>412391</td>\n",
       "      <td>113.0</td>\n",
       "      <td>1</td>\n",
       "      <td>1.000000</td>\n",
       "      <td>14</td>\n",
       "      <td>0.0</td>\n",
       "      <td>0.0</td>\n",
       "      <td>12.692308</td>\n",
       "      <td>380.769231</td>\n",
       "      <td>0</td>\n",
       "      <td>350.00</td>\n",
       "      <td>799.153846</td>\n",
       "      <td>115.153846</td>\n",
       "      <td>166.307692</td>\n",
       "      <td>160.769231</td>\n",
       "      <td>0.153846</td>\n",
       "      <td>0</td>\n",
       "    </tr>\n",
       "    <tr>\n",
       "      <th>6</th>\n",
       "      <td>412662</td>\n",
       "      <td>1005.0</td>\n",
       "      <td>21</td>\n",
       "      <td>4.636364</td>\n",
       "      <td>11</td>\n",
       "      <td>0.0</td>\n",
       "      <td>0.0</td>\n",
       "      <td>1.000000</td>\n",
       "      <td>26.363636</td>\n",
       "      <td>0</td>\n",
       "      <td>0.00</td>\n",
       "      <td>119.727273</td>\n",
       "      <td>12.454545</td>\n",
       "      <td>46.000000</td>\n",
       "      <td>57.272727</td>\n",
       "      <td>0.181818</td>\n",
       "      <td>0</td>\n",
       "    </tr>\n",
       "    <tr>\n",
       "      <th>7</th>\n",
       "      <td>457000</td>\n",
       "      <td>262.0</td>\n",
       "      <td>29</td>\n",
       "      <td>3.250000</td>\n",
       "      <td>16</td>\n",
       "      <td>0.0</td>\n",
       "      <td>0.0</td>\n",
       "      <td>3.250000</td>\n",
       "      <td>68.750000</td>\n",
       "      <td>3</td>\n",
       "      <td>63.07</td>\n",
       "      <td>26.937500</td>\n",
       "      <td>3.250000</td>\n",
       "      <td>18.625000</td>\n",
       "      <td>17.062500</td>\n",
       "      <td>0.062500</td>\n",
       "      <td>0</td>\n",
       "    </tr>\n",
       "    <tr>\n",
       "      <th>8</th>\n",
       "      <td>490356</td>\n",
       "      <td>1005.0</td>\n",
       "      <td>3</td>\n",
       "      <td>1.400000</td>\n",
       "      <td>5</td>\n",
       "      <td>0.0</td>\n",
       "      <td>0.0</td>\n",
       "      <td>0.000000</td>\n",
       "      <td>0.000000</td>\n",
       "      <td>5</td>\n",
       "      <td>0.00</td>\n",
       "      <td>2.500000</td>\n",
       "      <td>0.500000</td>\n",
       "      <td>1.000000</td>\n",
       "      <td>1.750000</td>\n",
       "      <td>0.000000</td>\n",
       "      <td>1</td>\n",
       "    </tr>\n",
       "    <tr>\n",
       "      <th>9</th>\n",
       "      <td>491551</td>\n",
       "      <td>1017.0</td>\n",
       "      <td>1</td>\n",
       "      <td>1.000000</td>\n",
       "      <td>2</td>\n",
       "      <td>0.0</td>\n",
       "      <td>0.0</td>\n",
       "      <td>0.000000</td>\n",
       "      <td>0.000000</td>\n",
       "      <td>0</td>\n",
       "      <td>0.00</td>\n",
       "      <td>74.500000</td>\n",
       "      <td>10.500000</td>\n",
       "      <td>4.500000</td>\n",
       "      <td>9.500000</td>\n",
       "      <td>0.000000</td>\n",
       "      <td>1</td>\n",
       "    </tr>\n",
       "  </tbody>\n",
       "</table>\n",
       "</div>"
      ],
      "text/plain": [
       "   user_id  account_id  max_return_days  average_return_days  \\\n",
       "0   410039       496.0                8             1.500000   \n",
       "1   410240       499.0               37             8.200000   \n",
       "2   411764       493.0                9             1.533333   \n",
       "3   411985       262.0                1             1.000000   \n",
       "4   412071       496.0                1             1.000000   \n",
       "5   412391       113.0                1             1.000000   \n",
       "6   412662      1005.0               21             4.636364   \n",
       "7   457000       262.0               29             3.250000   \n",
       "8   490356      1005.0                3             1.400000   \n",
       "9   491551      1017.0                1             1.000000   \n",
       "\n",
       "   customer_since_months  total_revenue  average_revenue  avg_vas_count  \\\n",
       "0                     14            0.0              0.0       3.666667   \n",
       "1                     10            0.0              0.0       4.900000   \n",
       "2                     15            0.0              0.0       5.333333   \n",
       "3                     14            0.0              0.0       6.307692   \n",
       "4                     18            0.0              0.0       5.846154   \n",
       "5                     14            0.0              0.0      12.692308   \n",
       "6                     11            0.0              0.0       1.000000   \n",
       "7                     16            0.0              0.0       3.250000   \n",
       "8                      5            0.0              0.0       0.000000   \n",
       "9                      2            0.0              0.0       0.000000   \n",
       "\n",
       "   avg_used_vas_value  business_type  avg_wallet_bonus  avg_active_ads  \\\n",
       "0           66.666667              0            300.00       79.333333   \n",
       "1          114.000000              0              0.00      232.100000   \n",
       "2          106.666667              0            150.00       55.083333   \n",
       "3          176.153846              0           1481.00      409.538462   \n",
       "4          109.230769              0             41.50       48.230769   \n",
       "5          380.769231              0            350.00      799.153846   \n",
       "6           26.363636              0              0.00      119.727273   \n",
       "7           68.750000              3             63.07       26.937500   \n",
       "8            0.000000              5              0.00        2.500000   \n",
       "9            0.000000              0              0.00       74.500000   \n",
       "\n",
       "   avg_new_ads  avg_email_replies  avg_call_replies  avg_sms_replies  target  \n",
       "0    15.250000          32.416667         27.916667         0.250000       0  \n",
       "1    18.300000          16.200000         13.800000         0.000000       0  \n",
       "2     3.750000          20.250000         24.500000         0.000000       0  \n",
       "3    80.769231          87.461538         57.615385         0.000000       1  \n",
       "4     1.692308          17.461538         25.769231         0.230769       0  \n",
       "5   115.153846         166.307692        160.769231         0.153846       0  \n",
       "6    12.454545          46.000000         57.272727         0.181818       0  \n",
       "7     3.250000          18.625000         17.062500         0.062500       0  \n",
       "8     0.500000           1.000000          1.750000         0.000000       1  \n",
       "9    10.500000           4.500000          9.500000         0.000000       1  "
      ]
     },
     "execution_count": 8,
     "metadata": {},
     "output_type": "execute_result"
    }
   ],
   "source": [
    "data.head(10)"
   ]
  },
  {
   "cell_type": "markdown",
   "metadata": {},
   "source": [
    "I wonder why is the average and total revenue 0 for even the 75th percentile of total users."
   ]
  },
  {
   "cell_type": "code",
   "execution_count": 9,
   "metadata": {},
   "outputs": [
    {
     "data": {
      "text/plain": [
       "4407"
      ]
     },
     "execution_count": 9,
     "metadata": {},
     "output_type": "execute_result"
    }
   ],
   "source": [
    "data.user_id.nunique()"
   ]
  },
  {
   "cell_type": "markdown",
   "metadata": {},
   "source": [
    "So each data point corresponds to one single user. This column is not of importance to us. "
   ]
  },
  {
   "cell_type": "code",
   "execution_count": 10,
   "metadata": {},
   "outputs": [],
   "source": [
    "data.drop('user_id',axis=1,inplace=True)"
   ]
  },
  {
   "cell_type": "code",
   "execution_count": 11,
   "metadata": {},
   "outputs": [
    {
     "data": {
      "text/plain": [
       "1005.0    684\n",
       "493.0     483\n",
       "499.0     467\n",
       "496.0     467\n",
       "262.0     438\n",
       "1017.0    436\n",
       "113.0     290\n",
       "226.0     275\n",
       "111.0     248\n",
       "112.0     148\n",
       "364.0     134\n",
       "517.0     112\n",
       "202.0     111\n",
       "115.0      73\n",
       "116.0      34\n",
       "Name: account_id, dtype: int64"
      ]
     },
     "execution_count": 11,
     "metadata": {},
     "output_type": "execute_result"
    }
   ],
   "source": [
    "data.account_id.value_counts()"
   ]
  },
  {
   "cell_type": "code",
   "execution_count": 12,
   "metadata": {},
   "outputs": [
    {
     "data": {
      "text/html": [
       "<div>\n",
       "<style scoped>\n",
       "    .dataframe tbody tr th:only-of-type {\n",
       "        vertical-align: middle;\n",
       "    }\n",
       "\n",
       "    .dataframe tbody tr th {\n",
       "        vertical-align: top;\n",
       "    }\n",
       "\n",
       "    .dataframe thead th {\n",
       "        text-align: right;\n",
       "    }\n",
       "</style>\n",
       "<table border=\"1\" class=\"dataframe\">\n",
       "  <thead>\n",
       "    <tr style=\"text-align: right;\">\n",
       "      <th></th>\n",
       "      <th>account_id</th>\n",
       "      <th>max_return_days</th>\n",
       "      <th>average_return_days</th>\n",
       "      <th>customer_since_months</th>\n",
       "      <th>total_revenue</th>\n",
       "      <th>average_revenue</th>\n",
       "      <th>avg_vas_count</th>\n",
       "      <th>avg_used_vas_value</th>\n",
       "      <th>business_type</th>\n",
       "      <th>avg_wallet_bonus</th>\n",
       "      <th>avg_active_ads</th>\n",
       "      <th>avg_new_ads</th>\n",
       "      <th>avg_email_replies</th>\n",
       "      <th>avg_call_replies</th>\n",
       "      <th>avg_sms_replies</th>\n",
       "      <th>target</th>\n",
       "    </tr>\n",
       "  </thead>\n",
       "  <tbody>\n",
       "    <tr>\n",
       "      <th>764</th>\n",
       "      <td>NaN</td>\n",
       "      <td>2</td>\n",
       "      <td>1.066667</td>\n",
       "      <td>15</td>\n",
       "      <td>0.0</td>\n",
       "      <td>0.0</td>\n",
       "      <td>3.1</td>\n",
       "      <td>73.0</td>\n",
       "      <td>0</td>\n",
       "      <td>400.0</td>\n",
       "      <td>82.4</td>\n",
       "      <td>13.0</td>\n",
       "      <td>11.0</td>\n",
       "      <td>11.5</td>\n",
       "      <td>0.0</td>\n",
       "      <td>0</td>\n",
       "    </tr>\n",
       "    <tr>\n",
       "      <th>1002</th>\n",
       "      <td>NaN</td>\n",
       "      <td>31</td>\n",
       "      <td>31.000000</td>\n",
       "      <td>1</td>\n",
       "      <td>0.0</td>\n",
       "      <td>0.0</td>\n",
       "      <td>0.0</td>\n",
       "      <td>0.0</td>\n",
       "      <td>0</td>\n",
       "      <td>0.0</td>\n",
       "      <td>288.0</td>\n",
       "      <td>288.0</td>\n",
       "      <td>33.0</td>\n",
       "      <td>32.0</td>\n",
       "      <td>0.0</td>\n",
       "      <td>0</td>\n",
       "    </tr>\n",
       "    <tr>\n",
       "      <th>2276</th>\n",
       "      <td>NaN</td>\n",
       "      <td>1</td>\n",
       "      <td>1.000000</td>\n",
       "      <td>1</td>\n",
       "      <td>0.0</td>\n",
       "      <td>0.0</td>\n",
       "      <td>0.0</td>\n",
       "      <td>0.0</td>\n",
       "      <td>4</td>\n",
       "      <td>0.0</td>\n",
       "      <td>0.0</td>\n",
       "      <td>0.0</td>\n",
       "      <td>0.0</td>\n",
       "      <td>0.0</td>\n",
       "      <td>0.0</td>\n",
       "      <td>0</td>\n",
       "    </tr>\n",
       "    <tr>\n",
       "      <th>3792</th>\n",
       "      <td>NaN</td>\n",
       "      <td>1</td>\n",
       "      <td>1.000000</td>\n",
       "      <td>1</td>\n",
       "      <td>0.0</td>\n",
       "      <td>0.0</td>\n",
       "      <td>0.0</td>\n",
       "      <td>0.0</td>\n",
       "      <td>0</td>\n",
       "      <td>0.0</td>\n",
       "      <td>0.0</td>\n",
       "      <td>0.0</td>\n",
       "      <td>0.0</td>\n",
       "      <td>0.0</td>\n",
       "      <td>0.0</td>\n",
       "      <td>0</td>\n",
       "    </tr>\n",
       "    <tr>\n",
       "      <th>3967</th>\n",
       "      <td>NaN</td>\n",
       "      <td>1</td>\n",
       "      <td>1.000000</td>\n",
       "      <td>1</td>\n",
       "      <td>0.0</td>\n",
       "      <td>0.0</td>\n",
       "      <td>0.0</td>\n",
       "      <td>0.0</td>\n",
       "      <td>4</td>\n",
       "      <td>0.0</td>\n",
       "      <td>0.0</td>\n",
       "      <td>0.0</td>\n",
       "      <td>0.0</td>\n",
       "      <td>0.0</td>\n",
       "      <td>0.0</td>\n",
       "      <td>0</td>\n",
       "    </tr>\n",
       "    <tr>\n",
       "      <th>4148</th>\n",
       "      <td>NaN</td>\n",
       "      <td>1</td>\n",
       "      <td>1.000000</td>\n",
       "      <td>2</td>\n",
       "      <td>0.0</td>\n",
       "      <td>0.0</td>\n",
       "      <td>0.0</td>\n",
       "      <td>0.0</td>\n",
       "      <td>0</td>\n",
       "      <td>0.0</td>\n",
       "      <td>4.5</td>\n",
       "      <td>3.0</td>\n",
       "      <td>2.0</td>\n",
       "      <td>1.0</td>\n",
       "      <td>0.0</td>\n",
       "      <td>1</td>\n",
       "    </tr>\n",
       "    <tr>\n",
       "      <th>4259</th>\n",
       "      <td>NaN</td>\n",
       "      <td>1</td>\n",
       "      <td>1.000000</td>\n",
       "      <td>2</td>\n",
       "      <td>0.0</td>\n",
       "      <td>0.0</td>\n",
       "      <td>0.0</td>\n",
       "      <td>0.0</td>\n",
       "      <td>1</td>\n",
       "      <td>0.0</td>\n",
       "      <td>7.0</td>\n",
       "      <td>3.5</td>\n",
       "      <td>1.5</td>\n",
       "      <td>1.5</td>\n",
       "      <td>0.0</td>\n",
       "      <td>0</td>\n",
       "    </tr>\n",
       "  </tbody>\n",
       "</table>\n",
       "</div>"
      ],
      "text/plain": [
       "      account_id  max_return_days  average_return_days  customer_since_months  \\\n",
       "764          NaN                2             1.066667                     15   \n",
       "1002         NaN               31            31.000000                      1   \n",
       "2276         NaN                1             1.000000                      1   \n",
       "3792         NaN                1             1.000000                      1   \n",
       "3967         NaN                1             1.000000                      1   \n",
       "4148         NaN                1             1.000000                      2   \n",
       "4259         NaN                1             1.000000                      2   \n",
       "\n",
       "      total_revenue  average_revenue  avg_vas_count  avg_used_vas_value  \\\n",
       "764             0.0              0.0            3.1                73.0   \n",
       "1002            0.0              0.0            0.0                 0.0   \n",
       "2276            0.0              0.0            0.0                 0.0   \n",
       "3792            0.0              0.0            0.0                 0.0   \n",
       "3967            0.0              0.0            0.0                 0.0   \n",
       "4148            0.0              0.0            0.0                 0.0   \n",
       "4259            0.0              0.0            0.0                 0.0   \n",
       "\n",
       "      business_type  avg_wallet_bonus  avg_active_ads  avg_new_ads  \\\n",
       "764               0             400.0            82.4         13.0   \n",
       "1002              0               0.0           288.0        288.0   \n",
       "2276              4               0.0             0.0          0.0   \n",
       "3792              0               0.0             0.0          0.0   \n",
       "3967              4               0.0             0.0          0.0   \n",
       "4148              0               0.0             4.5          3.0   \n",
       "4259              1               0.0             7.0          3.5   \n",
       "\n",
       "      avg_email_replies  avg_call_replies  avg_sms_replies  target  \n",
       "764                11.0              11.5              0.0       0  \n",
       "1002               33.0              32.0              0.0       0  \n",
       "2276                0.0               0.0              0.0       0  \n",
       "3792                0.0               0.0              0.0       0  \n",
       "3967                0.0               0.0              0.0       0  \n",
       "4148                2.0               1.0              0.0       1  \n",
       "4259                1.5               1.5              0.0       0  "
      ]
     },
     "execution_count": 12,
     "metadata": {},
     "output_type": "execute_result"
    }
   ],
   "source": [
    "data[data.account_id.isnull()]"
   ]
  },
  {
   "cell_type": "code",
   "execution_count": 13,
   "metadata": {
    "scrolled": true
   },
   "outputs": [
    {
     "data": {
      "image/png": "[encoded data removed]",
      "text/plain": [
       "<Figure size 1440x216 with 1 Axes>"
      ]
     },
     "metadata": {
      "needs_background": "light"
     },
     "output_type": "display_data"
    }
   ],
   "source": [
    "_ = sns.countplot(x=data.account_id, hue = data.target,data=data)\n",
    "_ = plt.show()"
   ]
  },
  {
   "cell_type": "markdown",
   "metadata": {},
   "source": [
    "Interestingly, the mode(i.e.1005) of account_id has the same ratio split of 0 and 1 as our missing values(6:1)"
   ]
  },
  {
   "cell_type": "code",
   "execution_count": 14,
   "metadata": {},
   "outputs": [],
   "source": [
    "data.account_id.fillna(value=data.account_id.mode()[0],inplace=True)"
   ]
  },
  {
   "cell_type": "markdown",
   "metadata": {},
   "source": [
    "# Exploratory Data Analysis"
   ]
  },
  {
   "cell_type": "code",
   "execution_count": 15,
   "metadata": {},
   "outputs": [
    {
     "data": {
      "text/plain": [
       "0    3952\n",
       "1     455\n",
       "Name: target, dtype: int64"
      ]
     },
     "execution_count": 15,
     "metadata": {},
     "output_type": "execute_result"
    }
   ],
   "source": [
    "data.target.value_counts()"
   ]
  },
  {
   "cell_type": "markdown",
   "metadata": {},
   "source": [
    "The dataset is highly unbalanced. Looking at the distributions of other variables to detect and remove outliers."
   ]
  },
  {
   "cell_type": "code",
   "execution_count": 16,
   "metadata": {},
   "outputs": [],
   "source": [
    "cols = [i for i in data.columns if i not in ['account_id','business_type','target']]\n"
   ]
  },
  {
   "cell_type": "code",
   "execution_count": 17,
   "metadata": {},
   "outputs": [
    {
     "data": {
      "image/png": "[encoded data removed]",
      "text/plain": [
       "<Figure size 720x4680 with 13 Axes>"
      ]
     },
     "metadata": {
      "needs_background": "light"
     },
     "output_type": "display_data"
    }
   ],
   "source": [
    "fig,ax = plt.subplots(len(cols),1, figsize=(10,65))\n",
    "\n",
    "for i,col in enumerate(cols):\n",
    "    sns.boxplot('target',col,ax=ax[i],color='white',data=data)"
   ]
  },
  {
   "cell_type": "markdown",
   "metadata": {},
   "source": [
    "Removing only the max values that are highly deviated from the mean. "
   ]
  },
  {
   "cell_type": "code",
   "execution_count": 18,
   "metadata": {},
   "outputs": [],
   "source": [
    "data = data[data['avg_sms_replies']<10]\n",
    "data = data[data['avg_call_replies']<1000]\n",
    "data = data[data['avg_email_replies']<1000]\n",
    "data = data[data['avg_new_ads']<1000]\n",
    "data = data[data['avg_active_ads']<4000]\n",
    "data = data[data['avg_wallet_bonus']<12000]\n",
    "data = data[data['avg_used_vas_value']<2000]\n",
    "data = data[data['avg_vas_count']<80]\n",
    "data = data[data['average_revenue']<3000]\n",
    "data = data[data['total_revenue']<30000]"
   ]
  },
  {
   "cell_type": "code",
   "execution_count": 19,
   "metadata": {},
   "outputs": [
    {
     "data": {
      "text/plain": [
       "(4391, 16)"
      ]
     },
     "execution_count": 19,
     "metadata": {},
     "output_type": "execute_result"
    }
   ],
   "source": [
    "data.shape"
   ]
  },
  {
   "cell_type": "markdown",
   "metadata": {},
   "source": [
    "Most of this dataset has main value and average value. They could have a very high collinearity. If that is true, we might want to keep only the average for better comparison."
   ]
  },
  {
   "cell_type": "code",
   "execution_count": 20,
   "metadata": {},
   "outputs": [],
   "source": [
    "data_X = data.drop('target',axis=1)\n"
   ]
  },
  {
   "cell_type": "code",
   "execution_count": 21,
   "metadata": {},
   "outputs": [],
   "source": [
    "def check_VIF(dataset):\n",
    "    col_VIF = pd.DataFrame(dataset.columns)\n",
    "    col_VIF['VIF'] = [variance_inflation_factor(dataset.values, i) for i in range(dataset.shape[1])]\n",
    "    print(col_VIF)"
   ]
  },
  {
   "cell_type": "code",
   "execution_count": 22,
   "metadata": {},
   "outputs": [
    {
     "name": "stdout",
     "output_type": "stream",
     "text": [
      "                        0        VIF\n",
      "0              account_id   2.465486\n",
      "1         max_return_days   3.029072\n",
      "2     average_return_days   2.659829\n",
      "3   customer_since_months   3.878749\n",
      "4           total_revenue   5.753745\n",
      "5         average_revenue   5.393996\n",
      "6           avg_vas_count  22.741738\n",
      "7      avg_used_vas_value  24.443537\n",
      "8           business_type   1.140119\n",
      "9        avg_wallet_bonus   1.597994\n",
      "10         avg_active_ads   3.892777\n",
      "11            avg_new_ads   2.530942\n",
      "12      avg_email_replies  10.594199\n",
      "13       avg_call_replies  13.867064\n",
      "14        avg_sms_replies   3.058529\n"
     ]
    }
   ],
   "source": [
    "check_VIF(data_X)"
   ]
  },
  {
   "cell_type": "markdown",
   "metadata": {},
   "source": [
    "So looks like we should consider variables 'avg_vas_count','avg_used_vas_value', 'avg_email_replies', 'avg_call_replies' and compare them visually to better understand their relationship-"
   ]
  },
  {
   "cell_type": "code",
   "execution_count": 23,
   "metadata": {},
   "outputs": [
    {
     "data": {
      "text/plain": [
       "<seaborn.axisgrid.JointGrid at 0x24a233340b8>"
      ]
     },
     "execution_count": 23,
     "metadata": {},
     "output_type": "execute_result"
    },
    {
     "data": {
      "image/png": "[encoded data removed]",
      "text/plain": [
       "<Figure size 432x432 with 3 Axes>"
      ]
     },
     "metadata": {
      "needs_background": "light"
     },
     "output_type": "display_data"
    }
   ],
   "source": [
    "sns.jointplot(x = data['avg_vas_count'], y = data['avg_used_vas_value'], kind='scatter')"
   ]
  },
  {
   "cell_type": "code",
   "execution_count": 24,
   "metadata": {},
   "outputs": [
    {
     "data": {
      "text/plain": [
       "<seaborn.axisgrid.JointGrid at 0x24a24a864a8>"
      ]
     },
     "execution_count": 24,
     "metadata": {},
     "output_type": "execute_result"
    },
    {
     "data": {
      "image/png": "[encoded data removed]",
      "text/plain": [
       "<Figure size 432x432 with 3 Axes>"
      ]
     },
     "metadata": {
      "needs_background": "light"
     },
     "output_type": "display_data"
    }
   ],
   "source": [
    "sns.jointplot(x = data['avg_email_replies'], y = data['avg_call_replies'], kind='scatter')"
   ]
  },
  {
   "cell_type": "markdown",
   "metadata": {},
   "source": [
    "These 4 variables are clearly very collinear. Removing the ones with higher values of VIF and checking again. "
   ]
  },
  {
   "cell_type": "code",
   "execution_count": 25,
   "metadata": {},
   "outputs": [],
   "source": [
    "data_X = data_X.drop(['avg_used_vas_value','avg_call_replies'],axis=1)"
   ]
  },
  {
   "cell_type": "code",
   "execution_count": 26,
   "metadata": {},
   "outputs": [
    {
     "name": "stdout",
     "output_type": "stream",
     "text": [
      "                        0       VIF\n",
      "0              account_id  2.459731\n",
      "1         max_return_days  3.024048\n",
      "2     average_return_days  2.658210\n",
      "3   customer_since_months  3.770316\n",
      "4           total_revenue  5.637961\n",
      "5         average_revenue  5.393726\n",
      "6           avg_vas_count  2.987832\n",
      "7           business_type  1.138349\n",
      "8        avg_wallet_bonus  1.597014\n",
      "9          avg_active_ads  3.836500\n",
      "10            avg_new_ads  2.522144\n",
      "11      avg_email_replies  3.608327\n",
      "12        avg_sms_replies  2.100020\n"
     ]
    }
   ],
   "source": [
    "check_VIF(data_X)"
   ]
  },
  {
   "cell_type": "markdown",
   "metadata": {},
   "source": [
    "Looks like total_revenue and average_revenue have some multicollinearity."
   ]
  },
  {
   "cell_type": "code",
   "execution_count": 27,
   "metadata": {},
   "outputs": [
    {
     "data": {
      "text/plain": [
       "<seaborn.axisgrid.JointGrid at 0x24a223af0b8>"
      ]
     },
     "execution_count": 27,
     "metadata": {},
     "output_type": "execute_result"
    },
    {
     "data": {
      "image/png": "[encoded data removed]",
      "text/plain": [
       "<Figure size 432x432 with 3 Axes>"
      ]
     },
     "metadata": {
      "needs_background": "light"
     },
     "output_type": "display_data"
    }
   ],
   "source": [
    "sns.jointplot(x = data_X['average_revenue'], y = data_X['total_revenue'], kind='scatter')"
   ]
  },
  {
   "cell_type": "markdown",
   "metadata": {},
   "source": [
    "Lets keep just the average_revenue"
   ]
  },
  {
   "cell_type": "code",
   "execution_count": 28,
   "metadata": {},
   "outputs": [],
   "source": [
    "data_X = data_X.drop('average_revenue',axis=1)"
   ]
  },
  {
   "cell_type": "code",
   "execution_count": 29,
   "metadata": {},
   "outputs": [
    {
     "name": "stdout",
     "output_type": "stream",
     "text": [
      "                        0       VIF\n",
      "0              account_id  2.459423\n",
      "1         max_return_days  3.009305\n",
      "2     average_return_days  2.655540\n",
      "3   customer_since_months  3.764969\n",
      "4           total_revenue  1.424224\n",
      "5           avg_vas_count  2.983879\n",
      "6           business_type  1.132996\n",
      "7        avg_wallet_bonus  1.596554\n",
      "8          avg_active_ads  3.833298\n",
      "9             avg_new_ads  2.521490\n",
      "10      avg_email_replies  3.608252\n",
      "11        avg_sms_replies  2.099713\n"
     ]
    }
   ],
   "source": [
    "check_VIF(data_X)"
   ]
  },
  {
   "cell_type": "markdown",
   "metadata": {},
   "source": [
    "Creating the dependent variable"
   ]
  },
  {
   "cell_type": "code",
   "execution_count": 30,
   "metadata": {},
   "outputs": [],
   "source": [
    "data_Y = data['target']"
   ]
  },
  {
   "cell_type": "code",
   "execution_count": 31,
   "metadata": {},
   "outputs": [],
   "source": [
    "final_data = pd.concat([data[data_X.columns],data_Y],axis=1)"
   ]
  },
  {
   "cell_type": "code",
   "execution_count": 32,
   "metadata": {},
   "outputs": [
    {
     "data": {
      "text/html": [
       "<div>\n",
       "<style scoped>\n",
       "    .dataframe tbody tr th:only-of-type {\n",
       "        vertical-align: middle;\n",
       "    }\n",
       "\n",
       "    .dataframe tbody tr th {\n",
       "        vertical-align: top;\n",
       "    }\n",
       "\n",
       "    .dataframe thead th {\n",
       "        text-align: right;\n",
       "    }\n",
       "</style>\n",
       "<table border=\"1\" class=\"dataframe\">\n",
       "  <thead>\n",
       "    <tr style=\"text-align: right;\">\n",
       "      <th></th>\n",
       "      <th>account_id</th>\n",
       "      <th>max_return_days</th>\n",
       "      <th>average_return_days</th>\n",
       "      <th>customer_since_months</th>\n",
       "      <th>total_revenue</th>\n",
       "      <th>avg_vas_count</th>\n",
       "      <th>business_type</th>\n",
       "      <th>avg_wallet_bonus</th>\n",
       "      <th>avg_active_ads</th>\n",
       "      <th>avg_new_ads</th>\n",
       "      <th>avg_email_replies</th>\n",
       "      <th>avg_sms_replies</th>\n",
       "      <th>target</th>\n",
       "    </tr>\n",
       "  </thead>\n",
       "  <tbody>\n",
       "    <tr>\n",
       "      <th>0</th>\n",
       "      <td>496.0</td>\n",
       "      <td>8</td>\n",
       "      <td>1.500000</td>\n",
       "      <td>14</td>\n",
       "      <td>0.0</td>\n",
       "      <td>3.666667</td>\n",
       "      <td>0</td>\n",
       "      <td>300.0</td>\n",
       "      <td>79.333333</td>\n",
       "      <td>15.250000</td>\n",
       "      <td>32.416667</td>\n",
       "      <td>0.250000</td>\n",
       "      <td>0</td>\n",
       "    </tr>\n",
       "    <tr>\n",
       "      <th>1</th>\n",
       "      <td>499.0</td>\n",
       "      <td>37</td>\n",
       "      <td>8.200000</td>\n",
       "      <td>10</td>\n",
       "      <td>0.0</td>\n",
       "      <td>4.900000</td>\n",
       "      <td>0</td>\n",
       "      <td>0.0</td>\n",
       "      <td>232.100000</td>\n",
       "      <td>18.300000</td>\n",
       "      <td>16.200000</td>\n",
       "      <td>0.000000</td>\n",
       "      <td>0</td>\n",
       "    </tr>\n",
       "    <tr>\n",
       "      <th>2</th>\n",
       "      <td>493.0</td>\n",
       "      <td>9</td>\n",
       "      <td>1.533333</td>\n",
       "      <td>15</td>\n",
       "      <td>0.0</td>\n",
       "      <td>5.333333</td>\n",
       "      <td>0</td>\n",
       "      <td>150.0</td>\n",
       "      <td>55.083333</td>\n",
       "      <td>3.750000</td>\n",
       "      <td>20.250000</td>\n",
       "      <td>0.000000</td>\n",
       "      <td>0</td>\n",
       "    </tr>\n",
       "    <tr>\n",
       "      <th>3</th>\n",
       "      <td>262.0</td>\n",
       "      <td>1</td>\n",
       "      <td>1.000000</td>\n",
       "      <td>14</td>\n",
       "      <td>0.0</td>\n",
       "      <td>6.307692</td>\n",
       "      <td>0</td>\n",
       "      <td>1481.0</td>\n",
       "      <td>409.538462</td>\n",
       "      <td>80.769231</td>\n",
       "      <td>87.461538</td>\n",
       "      <td>0.000000</td>\n",
       "      <td>1</td>\n",
       "    </tr>\n",
       "    <tr>\n",
       "      <th>4</th>\n",
       "      <td>496.0</td>\n",
       "      <td>1</td>\n",
       "      <td>1.000000</td>\n",
       "      <td>18</td>\n",
       "      <td>0.0</td>\n",
       "      <td>5.846154</td>\n",
       "      <td>0</td>\n",
       "      <td>41.5</td>\n",
       "      <td>48.230769</td>\n",
       "      <td>1.692308</td>\n",
       "      <td>17.461538</td>\n",
       "      <td>0.230769</td>\n",
       "      <td>0</td>\n",
       "    </tr>\n",
       "  </tbody>\n",
       "</table>\n",
       "</div>"
      ],
      "text/plain": [
       "   account_id  max_return_days  average_return_days  customer_since_months  \\\n",
       "0       496.0                8             1.500000                     14   \n",
       "1       499.0               37             8.200000                     10   \n",
       "2       493.0                9             1.533333                     15   \n",
       "3       262.0                1             1.000000                     14   \n",
       "4       496.0                1             1.000000                     18   \n",
       "\n",
       "   total_revenue  avg_vas_count  business_type  avg_wallet_bonus  \\\n",
       "0            0.0       3.666667              0             300.0   \n",
       "1            0.0       4.900000              0               0.0   \n",
       "2            0.0       5.333333              0             150.0   \n",
       "3            0.0       6.307692              0            1481.0   \n",
       "4            0.0       5.846154              0              41.5   \n",
       "\n",
       "   avg_active_ads  avg_new_ads  avg_email_replies  avg_sms_replies  target  \n",
       "0       79.333333    15.250000          32.416667         0.250000       0  \n",
       "1      232.100000    18.300000          16.200000         0.000000       0  \n",
       "2       55.083333     3.750000          20.250000         0.000000       0  \n",
       "3      409.538462    80.769231          87.461538         0.000000       1  \n",
       "4       48.230769     1.692308          17.461538         0.230769       0  "
      ]
     },
     "execution_count": 32,
     "metadata": {},
     "output_type": "execute_result"
    }
   ],
   "source": [
    "final_data.head()"
   ]
  },
  {
   "cell_type": "markdown",
   "metadata": {},
   "source": [
    "Now we are ready to model. So lets get to it."
   ]
  },
  {
   "cell_type": "markdown",
   "metadata": {},
   "source": [
    "# Model "
   ]
  },
  {
   "cell_type": "markdown",
   "metadata": {},
   "source": [
    "The dataset here is highly imbalanced so we would have to upsample it to make it more balanced and increase the dataset size a little. But on the upside, we have more numeric values and very few categorical ones('account_id' and 'business_type'). The target variable is a binary one. So we can start with a logistic regression. The dataset size is quite small for a DNN, but we can fit a Random Forest and XGB here. In the end, we can make a comparison of which model predicts the test data better and decide to either finetune it or keep it. "
   ]
  },
  {
   "cell_type": "markdown",
   "metadata": {},
   "source": [
    "Upsampling first"
   ]
  },
  {
   "cell_type": "code",
   "execution_count": 33,
   "metadata": {},
   "outputs": [
    {
     "name": "stdout",
     "output_type": "stream",
     "text": [
      "0    3937\n",
      "1     454\n",
      "Name: target, dtype: int64\n"
     ]
    }
   ],
   "source": [
    "data_0 = final_data[final_data.target==0]\n",
    "data_1 = final_data[final_data.target==1]\n",
    "print(final_data.target.value_counts())"
   ]
  },
  {
   "cell_type": "code",
   "execution_count": 34,
   "metadata": {},
   "outputs": [],
   "source": [
    "data_upsample_1 = resample(data_1,replace=True,n_samples=3937,random_state=42)"
   ]
  },
  {
   "cell_type": "code",
   "execution_count": 35,
   "metadata": {},
   "outputs": [],
   "source": [
    "upsampled_dataset = pd.concat([data_0,data_upsample_1])"
   ]
  },
  {
   "cell_type": "code",
   "execution_count": 36,
   "metadata": {},
   "outputs": [
    {
     "data": {
      "text/plain": [
       "1    3937\n",
       "0    3937\n",
       "Name: target, dtype: int64"
      ]
     },
     "execution_count": 36,
     "metadata": {},
     "output_type": "execute_result"
    }
   ],
   "source": [
    "upsampled_dataset.target.value_counts()"
   ]
  },
  {
   "cell_type": "markdown",
   "metadata": {},
   "source": [
    "Lets convert the categorical values to dummies "
   ]
  },
  {
   "cell_type": "code",
   "execution_count": 37,
   "metadata": {},
   "outputs": [],
   "source": [
    "upsampled_dataset = pd.get_dummies(upsampled_dataset,columns=['account_id','business_type'])"
   ]
  },
  {
   "cell_type": "code",
   "execution_count": 38,
   "metadata": {},
   "outputs": [
    {
     "data": {
      "text/html": [
       "<div>\n",
       "<style scoped>\n",
       "    .dataframe tbody tr th:only-of-type {\n",
       "        vertical-align: middle;\n",
       "    }\n",
       "\n",
       "    .dataframe tbody tr th {\n",
       "        vertical-align: top;\n",
       "    }\n",
       "\n",
       "    .dataframe thead th {\n",
       "        text-align: right;\n",
       "    }\n",
       "</style>\n",
       "<table border=\"1\" class=\"dataframe\">\n",
       "  <thead>\n",
       "    <tr style=\"text-align: right;\">\n",
       "      <th></th>\n",
       "      <th>max_return_days</th>\n",
       "      <th>average_return_days</th>\n",
       "      <th>customer_since_months</th>\n",
       "      <th>total_revenue</th>\n",
       "      <th>avg_vas_count</th>\n",
       "      <th>avg_wallet_bonus</th>\n",
       "      <th>avg_active_ads</th>\n",
       "      <th>avg_new_ads</th>\n",
       "      <th>avg_email_replies</th>\n",
       "      <th>avg_sms_replies</th>\n",
       "      <th>...</th>\n",
       "      <th>account_id_499.0</th>\n",
       "      <th>account_id_517.0</th>\n",
       "      <th>account_id_1005.0</th>\n",
       "      <th>account_id_1017.0</th>\n",
       "      <th>business_type_0</th>\n",
       "      <th>business_type_1</th>\n",
       "      <th>business_type_2</th>\n",
       "      <th>business_type_3</th>\n",
       "      <th>business_type_4</th>\n",
       "      <th>business_type_5</th>\n",
       "    </tr>\n",
       "  </thead>\n",
       "  <tbody>\n",
       "    <tr>\n",
       "      <th>0</th>\n",
       "      <td>8</td>\n",
       "      <td>1.500000</td>\n",
       "      <td>14</td>\n",
       "      <td>0.0</td>\n",
       "      <td>3.666667</td>\n",
       "      <td>300.0</td>\n",
       "      <td>79.333333</td>\n",
       "      <td>15.250000</td>\n",
       "      <td>32.416667</td>\n",
       "      <td>0.250000</td>\n",
       "      <td>...</td>\n",
       "      <td>0</td>\n",
       "      <td>0</td>\n",
       "      <td>0</td>\n",
       "      <td>0</td>\n",
       "      <td>1</td>\n",
       "      <td>0</td>\n",
       "      <td>0</td>\n",
       "      <td>0</td>\n",
       "      <td>0</td>\n",
       "      <td>0</td>\n",
       "    </tr>\n",
       "    <tr>\n",
       "      <th>1</th>\n",
       "      <td>37</td>\n",
       "      <td>8.200000</td>\n",
       "      <td>10</td>\n",
       "      <td>0.0</td>\n",
       "      <td>4.900000</td>\n",
       "      <td>0.0</td>\n",
       "      <td>232.100000</td>\n",
       "      <td>18.300000</td>\n",
       "      <td>16.200000</td>\n",
       "      <td>0.000000</td>\n",
       "      <td>...</td>\n",
       "      <td>1</td>\n",
       "      <td>0</td>\n",
       "      <td>0</td>\n",
       "      <td>0</td>\n",
       "      <td>1</td>\n",
       "      <td>0</td>\n",
       "      <td>0</td>\n",
       "      <td>0</td>\n",
       "      <td>0</td>\n",
       "      <td>0</td>\n",
       "    </tr>\n",
       "    <tr>\n",
       "      <th>2</th>\n",
       "      <td>9</td>\n",
       "      <td>1.533333</td>\n",
       "      <td>15</td>\n",
       "      <td>0.0</td>\n",
       "      <td>5.333333</td>\n",
       "      <td>150.0</td>\n",
       "      <td>55.083333</td>\n",
       "      <td>3.750000</td>\n",
       "      <td>20.250000</td>\n",
       "      <td>0.000000</td>\n",
       "      <td>...</td>\n",
       "      <td>0</td>\n",
       "      <td>0</td>\n",
       "      <td>0</td>\n",
       "      <td>0</td>\n",
       "      <td>1</td>\n",
       "      <td>0</td>\n",
       "      <td>0</td>\n",
       "      <td>0</td>\n",
       "      <td>0</td>\n",
       "      <td>0</td>\n",
       "    </tr>\n",
       "    <tr>\n",
       "      <th>4</th>\n",
       "      <td>1</td>\n",
       "      <td>1.000000</td>\n",
       "      <td>18</td>\n",
       "      <td>0.0</td>\n",
       "      <td>5.846154</td>\n",
       "      <td>41.5</td>\n",
       "      <td>48.230769</td>\n",
       "      <td>1.692308</td>\n",
       "      <td>17.461538</td>\n",
       "      <td>0.230769</td>\n",
       "      <td>...</td>\n",
       "      <td>0</td>\n",
       "      <td>0</td>\n",
       "      <td>0</td>\n",
       "      <td>0</td>\n",
       "      <td>1</td>\n",
       "      <td>0</td>\n",
       "      <td>0</td>\n",
       "      <td>0</td>\n",
       "      <td>0</td>\n",
       "      <td>0</td>\n",
       "    </tr>\n",
       "    <tr>\n",
       "      <th>5</th>\n",
       "      <td>1</td>\n",
       "      <td>1.000000</td>\n",
       "      <td>14</td>\n",
       "      <td>0.0</td>\n",
       "      <td>12.692308</td>\n",
       "      <td>350.0</td>\n",
       "      <td>799.153846</td>\n",
       "      <td>115.153846</td>\n",
       "      <td>166.307692</td>\n",
       "      <td>0.153846</td>\n",
       "      <td>...</td>\n",
       "      <td>0</td>\n",
       "      <td>0</td>\n",
       "      <td>0</td>\n",
       "      <td>0</td>\n",
       "      <td>1</td>\n",
       "      <td>0</td>\n",
       "      <td>0</td>\n",
       "      <td>0</td>\n",
       "      <td>0</td>\n",
       "      <td>0</td>\n",
       "    </tr>\n",
       "  </tbody>\n",
       "</table>\n",
       "<p>5 rows × 32 columns</p>\n",
       "</div>"
      ],
      "text/plain": [
       "   max_return_days  average_return_days  customer_since_months  total_revenue  \\\n",
       "0                8             1.500000                     14            0.0   \n",
       "1               37             8.200000                     10            0.0   \n",
       "2                9             1.533333                     15            0.0   \n",
       "4                1             1.000000                     18            0.0   \n",
       "5                1             1.000000                     14            0.0   \n",
       "\n",
       "   avg_vas_count  avg_wallet_bonus  avg_active_ads  avg_new_ads  \\\n",
       "0       3.666667             300.0       79.333333    15.250000   \n",
       "1       4.900000               0.0      232.100000    18.300000   \n",
       "2       5.333333             150.0       55.083333     3.750000   \n",
       "4       5.846154              41.5       48.230769     1.692308   \n",
       "5      12.692308             350.0      799.153846   115.153846   \n",
       "\n",
       "   avg_email_replies  avg_sms_replies  ...  account_id_499.0  \\\n",
       "0          32.416667         0.250000  ...                 0   \n",
       "1          16.200000         0.000000  ...                 1   \n",
       "2          20.250000         0.000000  ...                 0   \n",
       "4          17.461538         0.230769  ...                 0   \n",
       "5         166.307692         0.153846  ...                 0   \n",
       "\n",
       "   account_id_517.0  account_id_1005.0  account_id_1017.0  business_type_0  \\\n",
       "0                 0                  0                  0                1   \n",
       "1                 0                  0                  0                1   \n",
       "2                 0                  0                  0                1   \n",
       "4                 0                  0                  0                1   \n",
       "5                 0                  0                  0                1   \n",
       "\n",
       "   business_type_1  business_type_2  business_type_3  business_type_4  \\\n",
       "0                0                0                0                0   \n",
       "1                0                0                0                0   \n",
       "2                0                0                0                0   \n",
       "4                0                0                0                0   \n",
       "5                0                0                0                0   \n",
       "\n",
       "   business_type_5  \n",
       "0                0  \n",
       "1                0  \n",
       "2                0  \n",
       "4                0  \n",
       "5                0  \n",
       "\n",
       "[5 rows x 32 columns]"
      ]
     },
     "execution_count": 38,
     "metadata": {},
     "output_type": "execute_result"
    }
   ],
   "source": [
    "upsampled_dataset.head()"
   ]
  },
  {
   "cell_type": "code",
   "execution_count": 39,
   "metadata": {},
   "outputs": [],
   "source": [
    "upsampled_dataset.drop(['business_type_0','account_id_1017.0'],axis=1,inplace=True)"
   ]
  },
  {
   "cell_type": "code",
   "execution_count": 41,
   "metadata": {},
   "outputs": [
    {
     "name": "stderr",
     "output_type": "stream",
     "text": [
      "C:\\Users\\roshn\\Anaconda3\\lib\\site-packages\\sklearn\\preprocessing\\data.py:645: DataConversionWarning: Data with input dtype uint8, int64, float64 were all converted to float64 by StandardScaler.\n",
      "  return self.partial_fit(X, y)\n",
      "C:\\Users\\roshn\\Anaconda3\\lib\\site-packages\\sklearn\\base.py:464: DataConversionWarning: Data with input dtype uint8, int64, float64 were all converted to float64 by StandardScaler.\n",
      "  return self.fit(X, **fit_params).transform(X)\n"
     ]
    }
   ],
   "source": [
    "from sklearn.preprocessing import StandardScaler\n",
    "scaled_sample = StandardScaler().fit_transform(upsampled_dataset.iloc[:,:-1])"
   ]
  },
  {
   "cell_type": "markdown",
   "metadata": {},
   "source": [
    "Now we can split the data to train and test."
   ]
  },
  {
   "cell_type": "code",
   "execution_count": 42,
   "metadata": {},
   "outputs": [],
   "source": [
    "train_X,test_X,train_Y,test_Y = train_test_split(scaled_sample,upsampled_dataset.iloc[:,-1],\n",
    "                                                 test_size = 0.2, random_state = 42)"
   ]
  },
  {
   "cell_type": "markdown",
   "metadata": {},
   "source": [
    "Trying out different models starting with Logistic Regression"
   ]
  },
  {
   "cell_type": "code",
   "execution_count": 64,
   "metadata": {},
   "outputs": [
    {
     "name": "stdout",
     "output_type": "stream",
     "text": [
      "Best: 0.965550 using {'C': 0.01, 'penalty': 'l2', 'solver': 'newton-cg'}\n",
      "0.965285 (0.000953) with: {'C': 0.1, 'penalty': 'l2', 'solver': 'newton-cg'}\n",
      "0.965285 (0.000953) with: {'C': 0.1, 'penalty': 'l2', 'solver': 'lbfgs'}\n",
      "0.965338 (0.000898) with: {'C': 0.1, 'penalty': 'l2', 'solver': 'liblinear'}\n",
      "0.965550 (0.000696) with: {'C': 0.01, 'penalty': 'l2', 'solver': 'newton-cg'}\n",
      "0.965550 (0.000696) with: {'C': 0.01, 'penalty': 'l2', 'solver': 'lbfgs'}\n",
      "0.965391 (0.000611) with: {'C': 0.01, 'penalty': 'l2', 'solver': 'liblinear'}\n",
      "0.965550 (0.000696) with: {'C': 0.001, 'penalty': 'l2', 'solver': 'newton-cg'}\n",
      "0.965550 (0.000696) with: {'C': 0.001, 'penalty': 'l2', 'solver': 'lbfgs'}\n",
      "0.965550 (0.000696) with: {'C': 0.001, 'penalty': 'l2', 'solver': 'liblinear'}\n",
      "0.965550 (0.000696) with: {'C': 0.0001, 'penalty': 'l2', 'solver': 'newton-cg'}\n",
      "0.965550 (0.000696) with: {'C': 0.0001, 'penalty': 'l2', 'solver': 'lbfgs'}\n",
      "0.965550 (0.000696) with: {'C': 0.0001, 'penalty': 'l2', 'solver': 'liblinear'}\n"
     ]
    }
   ],
   "source": [
    "logreg = LogisticRegression()\n",
    "solvers = ['newton-cg', 'lbfgs', 'liblinear']\n",
    "penalty = ['l2']\n",
    "c_values = [ 0.1, 0.01, 0.001,0.0001]\n",
    "\n",
    "# define grid search\n",
    "grid = dict(solver=solvers,penalty=penalty,C=c_values)\n",
    "cv = RepeatedStratifiedKFold(n_splits=10, n_repeats=3, random_state=1)\n",
    "grid_search_lr = GridSearchCV(estimator=logreg, param_grid=grid, n_jobs=-1, cv=cv, scoring='accuracy',error_score=0)\n",
    "grid_result_lr = grid_search_lr.fit(train_X, train_Y)\n",
    "\n",
    "# summarize results\n",
    "print(\"Best: %f using %s\" % (grid_result_lr.best_score_, grid_result_lr.best_params_))\n",
    "means = grid_result_lr.cv_results_['mean_test_score']\n",
    "stds = grid_result_lr.cv_results_['std_test_score']\n",
    "params = grid_result_lr.cv_results_['params']\n",
    "for mean, stdev, param in zip(means, stds, params):\n",
    "    print(\"%f (%f) with: %r\" % (mean, stdev, param))"
   ]
  },
  {
   "cell_type": "markdown",
   "metadata": {},
   "source": [
    "So Logistic Regression gives us 96% train accuracy using 'C': 0.01, 'penalty': 'l2', 'solver': 'newton-cg'"
   ]
  },
  {
   "cell_type": "markdown",
   "metadata": {},
   "source": [
    "How about RandomForest then? Lets see."
   ]
  },
  {
   "cell_type": "code",
   "execution_count": 63,
   "metadata": {},
   "outputs": [
    {
     "name": "stdout",
     "output_type": "stream",
     "text": [
      "Best: 0.982272 using {'max_features': 'sqrt', 'n_estimators': 10000}\n",
      "0.981267 (0.002731) with: {'max_features': 'sqrt', 'n_estimators': 10}\n",
      "0.982219 (0.003158) with: {'max_features': 'sqrt', 'n_estimators': 100}\n",
      "0.982166 (0.003219) with: {'max_features': 'sqrt', 'n_estimators': 1000}\n",
      "0.982272 (0.003097) with: {'max_features': 'sqrt', 'n_estimators': 10000}\n",
      "0.981108 (0.003533) with: {'max_features': 'log2', 'n_estimators': 10}\n",
      "0.981796 (0.002977) with: {'max_features': 'log2', 'n_estimators': 100}\n",
      "0.982008 (0.003049) with: {'max_features': 'log2', 'n_estimators': 1000}\n",
      "0.982166 (0.003140) with: {'max_features': 'log2', 'n_estimators': 10000}\n"
     ]
    }
   ],
   "source": [
    "ranfor = RandomForestClassifier()\n",
    "n_estimators = [10, 100, 1000, 10000]\n",
    "max_features = ['sqrt', 'log2']\n",
    "\n",
    "# define grid search\n",
    "grid = dict(n_estimators=n_estimators,max_features=max_features)\n",
    "cv = RepeatedStratifiedKFold(n_splits=10, n_repeats=3, random_state=1)\n",
    "grid_search_rf = GridSearchCV(estimator=ranfor, param_grid=grid, n_jobs=-1, cv=cv, scoring='accuracy',error_score=0)\n",
    "grid_result_rf = grid_search_rf.fit(train_X, train_Y)\n",
    "\n",
    "# summarize results\n",
    "print(\"Best: %f using %s\" % (grid_result_rf.best_score_, grid_result_rf.best_params_))\n",
    "means = grid_result_rf.cv_results_['mean_test_score']\n",
    "stds = grid_result_rf.cv_results_['std_test_score']\n",
    "params = grid_result_rf.cv_results_['params']\n",
    "for mean, stdev, param in zip(means, stds, params):\n",
    "    print(\"%f (%f) with: %r\" % (mean, stdev, param))"
   ]
  },
  {
   "cell_type": "markdown",
   "metadata": {},
   "source": [
    "Random Forest does perform much better here."
   ]
  },
  {
   "cell_type": "markdown",
   "metadata": {},
   "source": [
    "We can now compare the performance of XGB."
   ]
  },
  {
   "cell_type": "code",
   "execution_count": 60,
   "metadata": {},
   "outputs": [
    {
     "name": "stdout",
     "output_type": "stream",
     "text": [
      "Best: 0.981637 using {'learning_rate': 0.1, 'max_depth': 7, 'n_estimators': 100, 'subsample': 0.7}\n",
      "0.966503 (0.001541) with: {'learning_rate': 0.001, 'max_depth': 3, 'n_estimators': 10, 'subsample': 0.5}\n",
      "0.966291 (0.001511) with: {'learning_rate': 0.001, 'max_depth': 3, 'n_estimators': 10, 'subsample': 0.7}\n",
      "0.965285 (0.002232) with: {'learning_rate': 0.001, 'max_depth': 3, 'n_estimators': 10, 'subsample': 1.0}\n",
      "0.966556 (0.001290) with: {'learning_rate': 0.001, 'max_depth': 3, 'n_estimators': 100, 'subsample': 0.5}\n",
      "0.966556 (0.001211) with: {'learning_rate': 0.001, 'max_depth': 3, 'n_estimators': 100, 'subsample': 0.7}\n",
      "0.964862 (0.001945) with: {'learning_rate': 0.001, 'max_depth': 3, 'n_estimators': 100, 'subsample': 1.0}\n",
      "0.966873 (0.001267) with: {'learning_rate': 0.001, 'max_depth': 3, 'n_estimators': 1000, 'subsample': 0.5}\n",
      "0.967085 (0.001525) with: {'learning_rate': 0.001, 'max_depth': 3, 'n_estimators': 1000, 'subsample': 0.7}\n",
      "0.965762 (0.001559) with: {'learning_rate': 0.001, 'max_depth': 3, 'n_estimators': 1000, 'subsample': 1.0}\n",
      "0.968566 (0.001652) with: {'learning_rate': 0.001, 'max_depth': 5, 'n_estimators': 10, 'subsample': 0.5}\n",
      "0.969043 (0.002707) with: {'learning_rate': 0.001, 'max_depth': 5, 'n_estimators': 10, 'subsample': 0.7}\n",
      "0.968619 (0.003563) with: {'learning_rate': 0.001, 'max_depth': 5, 'n_estimators': 10, 'subsample': 1.0}\n",
      "0.968884 (0.001942) with: {'learning_rate': 0.001, 'max_depth': 5, 'n_estimators': 100, 'subsample': 0.5}\n",
      "0.969731 (0.001958) with: {'learning_rate': 0.001, 'max_depth': 5, 'n_estimators': 100, 'subsample': 0.7}\n",
      "0.969201 (0.003514) with: {'learning_rate': 0.001, 'max_depth': 5, 'n_estimators': 100, 'subsample': 1.0}\n",
      "0.971001 (0.001829) with: {'learning_rate': 0.001, 'max_depth': 5, 'n_estimators': 1000, 'subsample': 0.5}\n",
      "0.971001 (0.002041) with: {'learning_rate': 0.001, 'max_depth': 5, 'n_estimators': 1000, 'subsample': 0.7}\n",
      "0.970207 (0.002905) with: {'learning_rate': 0.001, 'max_depth': 5, 'n_estimators': 1000, 'subsample': 1.0}\n",
      "0.969731 (0.002230) with: {'learning_rate': 0.001, 'max_depth': 7, 'n_estimators': 10, 'subsample': 0.5}\n",
      "0.971001 (0.003661) with: {'learning_rate': 0.001, 'max_depth': 7, 'n_estimators': 10, 'subsample': 0.7}\n",
      "0.970789 (0.003188) with: {'learning_rate': 0.001, 'max_depth': 7, 'n_estimators': 10, 'subsample': 1.0}\n",
      "0.970048 (0.002514) with: {'learning_rate': 0.001, 'max_depth': 7, 'n_estimators': 100, 'subsample': 0.5}\n",
      "0.971583 (0.002848) with: {'learning_rate': 0.001, 'max_depth': 7, 'n_estimators': 100, 'subsample': 0.7}\n",
      "0.971794 (0.003681) with: {'learning_rate': 0.001, 'max_depth': 7, 'n_estimators': 100, 'subsample': 1.0}\n",
      "0.972694 (0.002220) with: {'learning_rate': 0.001, 'max_depth': 7, 'n_estimators': 1000, 'subsample': 0.5}\n",
      "0.973329 (0.002763) with: {'learning_rate': 0.001, 'max_depth': 7, 'n_estimators': 1000, 'subsample': 0.7}\n",
      "0.973276 (0.003452) with: {'learning_rate': 0.001, 'max_depth': 7, 'n_estimators': 1000, 'subsample': 1.0}\n",
      "0.971159 (0.002489) with: {'learning_rate': 0.001, 'max_depth': 9, 'n_estimators': 10, 'subsample': 0.5}\n",
      "0.973541 (0.003582) with: {'learning_rate': 0.001, 'max_depth': 9, 'n_estimators': 10, 'subsample': 0.7}\n",
      "0.973647 (0.003918) with: {'learning_rate': 0.001, 'max_depth': 9, 'n_estimators': 10, 'subsample': 1.0}\n",
      "0.971159 (0.002284) with: {'learning_rate': 0.001, 'max_depth': 9, 'n_estimators': 100, 'subsample': 0.5}\n",
      "0.974176 (0.003174) with: {'learning_rate': 0.001, 'max_depth': 9, 'n_estimators': 100, 'subsample': 0.7}\n",
      "0.974282 (0.004086) with: {'learning_rate': 0.001, 'max_depth': 9, 'n_estimators': 100, 'subsample': 1.0}\n",
      "0.974229 (0.002826) with: {'learning_rate': 0.001, 'max_depth': 9, 'n_estimators': 1000, 'subsample': 0.5}\n",
      "0.976293 (0.002806) with: {'learning_rate': 0.001, 'max_depth': 9, 'n_estimators': 1000, 'subsample': 0.7}\n",
      "0.976769 (0.003397) with: {'learning_rate': 0.001, 'max_depth': 9, 'n_estimators': 1000, 'subsample': 1.0}\n",
      "0.966397 (0.001534) with: {'learning_rate': 0.01, 'max_depth': 3, 'n_estimators': 10, 'subsample': 0.5}\n",
      "0.966344 (0.001383) with: {'learning_rate': 0.01, 'max_depth': 3, 'n_estimators': 10, 'subsample': 0.7}\n",
      "0.964968 (0.002039) with: {'learning_rate': 0.01, 'max_depth': 3, 'n_estimators': 10, 'subsample': 1.0}\n",
      "0.966820 (0.001372) with: {'learning_rate': 0.01, 'max_depth': 3, 'n_estimators': 100, 'subsample': 0.5}\n",
      "0.966926 (0.001637) with: {'learning_rate': 0.01, 'max_depth': 3, 'n_estimators': 100, 'subsample': 0.7}\n",
      "0.965762 (0.001559) with: {'learning_rate': 0.01, 'max_depth': 3, 'n_estimators': 100, 'subsample': 1.0}\n",
      "0.970948 (0.003336) with: {'learning_rate': 0.01, 'max_depth': 3, 'n_estimators': 1000, 'subsample': 0.5}\n",
      "0.971054 (0.003519) with: {'learning_rate': 0.01, 'max_depth': 3, 'n_estimators': 1000, 'subsample': 0.7}\n",
      "0.970683 (0.003089) with: {'learning_rate': 0.01, 'max_depth': 3, 'n_estimators': 1000, 'subsample': 1.0}\n",
      "0.968725 (0.001693) with: {'learning_rate': 0.01, 'max_depth': 5, 'n_estimators': 10, 'subsample': 0.5}\n",
      "0.969201 (0.002228) with: {'learning_rate': 0.01, 'max_depth': 5, 'n_estimators': 10, 'subsample': 0.7}\n",
      "0.969096 (0.003658) with: {'learning_rate': 0.01, 'max_depth': 5, 'n_estimators': 10, 'subsample': 1.0}\n",
      "0.970895 (0.001891) with: {'learning_rate': 0.01, 'max_depth': 5, 'n_estimators': 100, 'subsample': 0.5}\n",
      "0.970842 (0.001896) with: {'learning_rate': 0.01, 'max_depth': 5, 'n_estimators': 100, 'subsample': 0.7}\n",
      "0.970366 (0.002866) with: {'learning_rate': 0.01, 'max_depth': 5, 'n_estimators': 100, 'subsample': 1.0}\n",
      "0.980261 (0.003499) with: {'learning_rate': 0.01, 'max_depth': 5, 'n_estimators': 1000, 'subsample': 0.5}\n",
      "0.979626 (0.003338) with: {'learning_rate': 0.01, 'max_depth': 5, 'n_estimators': 1000, 'subsample': 0.7}\n",
      "0.977510 (0.004089) with: {'learning_rate': 0.01, 'max_depth': 5, 'n_estimators': 1000, 'subsample': 1.0}\n",
      "0.969942 (0.002198) with: {'learning_rate': 0.01, 'max_depth': 7, 'n_estimators': 10, 'subsample': 0.5}\n",
      "0.970524 (0.002999) with: {'learning_rate': 0.01, 'max_depth': 7, 'n_estimators': 10, 'subsample': 0.7}\n",
      "0.971847 (0.003641) with: {'learning_rate': 0.01, 'max_depth': 7, 'n_estimators': 10, 'subsample': 1.0}\n",
      "0.972429 (0.002816) with: {'learning_rate': 0.01, 'max_depth': 7, 'n_estimators': 100, 'subsample': 0.5}\n",
      "0.973223 (0.002974) with: {'learning_rate': 0.01, 'max_depth': 7, 'n_estimators': 100, 'subsample': 0.7}\n",
      "0.973276 (0.003277) with: {'learning_rate': 0.01, 'max_depth': 7, 'n_estimators': 100, 'subsample': 1.0}\n",
      "0.981320 (0.003640) with: {'learning_rate': 0.01, 'max_depth': 7, 'n_estimators': 1000, 'subsample': 0.5}\n",
      "0.981373 (0.003622) with: {'learning_rate': 0.01, 'max_depth': 7, 'n_estimators': 1000, 'subsample': 0.7}\n",
      "0.980473 (0.003411) with: {'learning_rate': 0.01, 'max_depth': 7, 'n_estimators': 1000, 'subsample': 1.0}\n",
      "0.971636 (0.002833) with: {'learning_rate': 0.01, 'max_depth': 9, 'n_estimators': 10, 'subsample': 0.5}\n",
      "0.973435 (0.002868) with: {'learning_rate': 0.01, 'max_depth': 9, 'n_estimators': 10, 'subsample': 0.7}\n",
      "0.974282 (0.004386) with: {'learning_rate': 0.01, 'max_depth': 9, 'n_estimators': 10, 'subsample': 1.0}\n",
      "0.973964 (0.002852) with: {'learning_rate': 0.01, 'max_depth': 9, 'n_estimators': 100, 'subsample': 0.5}\n",
      "0.975869 (0.003160) with: {'learning_rate': 0.01, 'max_depth': 9, 'n_estimators': 100, 'subsample': 0.7}\n",
      "0.976663 (0.003533) with: {'learning_rate': 0.01, 'max_depth': 9, 'n_estimators': 100, 'subsample': 1.0}\n",
      "0.981267 (0.003632) with: {'learning_rate': 0.01, 'max_depth': 9, 'n_estimators': 1000, 'subsample': 0.5}\n",
      "0.981161 (0.003568) with: {'learning_rate': 0.01, 'max_depth': 9, 'n_estimators': 1000, 'subsample': 0.7}\n",
      "0.981108 (0.004126) with: {'learning_rate': 0.01, 'max_depth': 9, 'n_estimators': 1000, 'subsample': 1.0}\n",
      "0.966873 (0.001665) with: {'learning_rate': 0.1, 'max_depth': 3, 'n_estimators': 10, 'subsample': 0.5}\n",
      "0.966767 (0.001409) with: {'learning_rate': 0.1, 'max_depth': 3, 'n_estimators': 10, 'subsample': 0.7}\n",
      "0.965603 (0.001539) with: {'learning_rate': 0.1, 'max_depth': 3, 'n_estimators': 10, 'subsample': 1.0}\n",
      "0.971001 (0.003598) with: {'learning_rate': 0.1, 'max_depth': 3, 'n_estimators': 100, 'subsample': 0.5}\n",
      "0.971424 (0.003508) with: {'learning_rate': 0.1, 'max_depth': 3, 'n_estimators': 100, 'subsample': 0.7}\n",
      "0.970630 (0.002484) with: {'learning_rate': 0.1, 'max_depth': 3, 'n_estimators': 100, 'subsample': 1.0}\n",
      "0.979997 (0.004190) with: {'learning_rate': 0.1, 'max_depth': 3, 'n_estimators': 1000, 'subsample': 0.5}\n",
      "0.979415 (0.003897) with: {'learning_rate': 0.1, 'max_depth': 3, 'n_estimators': 1000, 'subsample': 0.7}\n",
      "0.979626 (0.003976) with: {'learning_rate': 0.1, 'max_depth': 3, 'n_estimators': 1000, 'subsample': 1.0}\n",
      "0.971054 (0.002336) with: {'learning_rate': 0.1, 'max_depth': 5, 'n_estimators': 10, 'subsample': 0.5}\n",
      "0.970630 (0.002673) with: {'learning_rate': 0.1, 'max_depth': 5, 'n_estimators': 10, 'subsample': 0.7}\n",
      "0.970419 (0.002596) with: {'learning_rate': 0.1, 'max_depth': 5, 'n_estimators': 10, 'subsample': 1.0}\n",
      "0.979203 (0.003748) with: {'learning_rate': 0.1, 'max_depth': 5, 'n_estimators': 100, 'subsample': 0.5}\n",
      "0.980526 (0.003777) with: {'learning_rate': 0.1, 'max_depth': 5, 'n_estimators': 100, 'subsample': 0.7}\n",
      "0.977033 (0.003912) with: {'learning_rate': 0.1, 'max_depth': 5, 'n_estimators': 100, 'subsample': 1.0}\n",
      "0.980367 (0.004188) with: {'learning_rate': 0.1, 'max_depth': 5, 'n_estimators': 1000, 'subsample': 0.5}\n",
      "0.980632 (0.003764) with: {'learning_rate': 0.1, 'max_depth': 5, 'n_estimators': 1000, 'subsample': 0.7}\n",
      "0.979944 (0.004147) with: {'learning_rate': 0.1, 'max_depth': 5, 'n_estimators': 1000, 'subsample': 1.0}\n",
      "0.972800 (0.003001) with: {'learning_rate': 0.1, 'max_depth': 7, 'n_estimators': 10, 'subsample': 0.5}\n",
      "0.972800 (0.003582) with: {'learning_rate': 0.1, 'max_depth': 7, 'n_estimators': 10, 'subsample': 0.7}\n",
      "0.973700 (0.002615) with: {'learning_rate': 0.1, 'max_depth': 7, 'n_estimators': 10, 'subsample': 1.0}\n",
      "0.980526 (0.003689) with: {'learning_rate': 0.1, 'max_depth': 7, 'n_estimators': 100, 'subsample': 0.5}\n",
      "0.981637 (0.003794) with: {'learning_rate': 0.1, 'max_depth': 7, 'n_estimators': 100, 'subsample': 0.7}\n",
      "0.980844 (0.003549) with: {'learning_rate': 0.1, 'max_depth': 7, 'n_estimators': 100, 'subsample': 1.0}\n",
      "0.980791 (0.004226) with: {'learning_rate': 0.1, 'max_depth': 7, 'n_estimators': 1000, 'subsample': 0.5}\n",
      "0.980314 (0.003834) with: {'learning_rate': 0.1, 'max_depth': 7, 'n_estimators': 1000, 'subsample': 0.7}\n",
      "0.980208 (0.003882) with: {'learning_rate': 0.1, 'max_depth': 7, 'n_estimators': 1000, 'subsample': 1.0}\n",
      "0.974652 (0.002971) with: {'learning_rate': 0.1, 'max_depth': 9, 'n_estimators': 10, 'subsample': 0.5}\n",
      "0.975975 (0.003565) with: {'learning_rate': 0.1, 'max_depth': 9, 'n_estimators': 10, 'subsample': 0.7}\n",
      "0.976716 (0.003631) with: {'learning_rate': 0.1, 'max_depth': 9, 'n_estimators': 10, 'subsample': 1.0}\n",
      "0.980844 (0.003598) with: {'learning_rate': 0.1, 'max_depth': 9, 'n_estimators': 100, 'subsample': 0.5}\n",
      "0.981320 (0.003883) with: {'learning_rate': 0.1, 'max_depth': 9, 'n_estimators': 100, 'subsample': 0.7}\n",
      "0.980685 (0.003713) with: {'learning_rate': 0.1, 'max_depth': 9, 'n_estimators': 100, 'subsample': 1.0}\n",
      "0.980314 (0.003965) with: {'learning_rate': 0.1, 'max_depth': 9, 'n_estimators': 1000, 'subsample': 0.5}\n",
      "0.980632 (0.003872) with: {'learning_rate': 0.1, 'max_depth': 9, 'n_estimators': 1000, 'subsample': 0.7}\n",
      "0.980685 (0.004179) with: {'learning_rate': 0.1, 'max_depth': 9, 'n_estimators': 1000, 'subsample': 1.0}\n"
     ]
    }
   ],
   "source": [
    "xgb = XGBClassifier()\n",
    "n_estimators = [10, 100, 1000]\n",
    "learning_rate = [0.001, 0.01, 0.1]\n",
    "subsample = [0.5, 0.7, 1.0]\n",
    "max_depth = [3, 5, 7, 9]\n",
    "\n",
    "# define grid search\n",
    "grid = dict(learning_rate=learning_rate, n_estimators=n_estimators, subsample=subsample, max_depth=max_depth)\n",
    "cv = RepeatedStratifiedKFold(n_splits=10, n_repeats=3, random_state=1)\n",
    "grid_search_xgb = GridSearchCV(estimator=xgb, param_grid=grid, n_jobs=-1, cv=cv, scoring='accuracy',error_score=0)\n",
    "grid_result_xgb = grid_search_xgb.fit(train_X, train_Y)\n",
    "\n",
    "# summarize results\n",
    "print(\"Best: %f using %s\" % (grid_result_xgb.best_score_, grid_result_xgb.best_params_))\n",
    "means = grid_result_xgb.cv_results_['mean_test_score']\n",
    "stds = grid_result_xgb.cv_results_['std_test_score']\n",
    "params = grid_result_xgb.cv_results_['params']\n",
    "for mean, stdev, param in zip(means, stds, params):\n",
    "    print(\"%f (%f) with: %r\" % (mean, stdev, param))"
   ]
  },
  {
   "cell_type": "code",
   "execution_count": 65,
   "metadata": {},
   "outputs": [],
   "source": [
    "from sklearn.metrics import roc_auc_score, accuracy_score, classification_report, confusion_matrix, roc_curve\n",
    "\n",
    "def get_metrics(y_test,y_pred):\n",
    "    print('Accuracy Score: ',accuracy_score(y_test,y_pred))\n",
    "    print('AUC ROC score : ',roc_auc_score(y_test,y_pred))\n",
    "    print('Classification Matrix : ',classification_report(y_test,y_pred))\n",
    "    print('Confusion Matrix: ', confusion_matrix(y_test,y_pred))\n",
    "    plot_auc_roc(y_test,y_pred)\n",
    " \n",
    "def plot_auc_roc(y_test,y_pred):\n",
    "    fpr, tpr,thres = roc_curve(y_test , y_pred)\n",
    "    plt.figure(figsize=(6,6))\n",
    "    plt.plot(fpr, tpr)\n",
    "    plt.plot([0,1], [0,1], '--')\n",
    "    plt.xlabel('FPR')\n",
    "    plt.ylabel('TPR')\n",
    "    plt.title('AUC-ROC curve')\n",
    "    plt.legend()"
   ]
  },
  {
   "cell_type": "markdown",
   "metadata": {},
   "source": [
    "testing out the metrics on the test set"
   ]
  },
  {
   "cell_type": "code",
   "execution_count": 67,
   "metadata": {},
   "outputs": [
    {
     "name": "stderr",
     "output_type": "stream",
     "text": [
      "C:\\Users\\roshn\\Anaconda3\\lib\\site-packages\\sklearn\\metrics\\classification.py:1143: UndefinedMetricWarning: Precision and F-score are ill-defined and being set to 0.0 in labels with no predicted samples.\n",
      "  'precision', 'predicted', average, warn_for)\n",
      "No handles with labels found to put in legend.\n"
     ]
    },
    {
     "name": "stdout",
     "output_type": "stream",
     "text": [
      "Metrics for Logistic Regression :\n",
      "Accuracy Score:  0.9523809523809523\n",
      "AUC ROC score :  0.5\n",
      "Classification Matrix :                precision    recall  f1-score   support\n",
      "\n",
      "           0       0.95      1.00      0.98      1500\n",
      "           1       0.00      0.00      0.00        75\n",
      "\n",
      "   micro avg       0.95      0.95      0.95      1575\n",
      "   macro avg       0.48      0.50      0.49      1575\n",
      "weighted avg       0.91      0.95      0.93      1575\n",
      "\n",
      "Confusion Matrix:  [[1500    0]\n",
      " [  75    0]]\n"
     ]
    },
    {
     "name": "stderr",
     "output_type": "stream",
     "text": [
      "No handles with labels found to put in legend.\n"
     ]
    },
    {
     "name": "stdout",
     "output_type": "stream",
     "text": [
      "Metrics for Random Forest :\n",
      "Accuracy Score:  0.9796825396825397\n",
      "AUC ROC score :  0.7866666666666666\n",
      "Classification Matrix :                precision    recall  f1-score   support\n",
      "\n",
      "           0       0.98      1.00      0.99      1500\n",
      "           1       1.00      0.57      0.73        75\n",
      "\n",
      "   micro avg       0.98      0.98      0.98      1575\n",
      "   macro avg       0.99      0.79      0.86      1575\n",
      "weighted avg       0.98      0.98      0.98      1575\n",
      "\n",
      "Confusion Matrix:  [[1500    0]\n",
      " [  32   43]]\n"
     ]
    },
    {
     "name": "stderr",
     "output_type": "stream",
     "text": [
      "No handles with labels found to put in legend.\n"
     ]
    },
    {
     "name": "stdout",
     "output_type": "stream",
     "text": [
      "Metrics for XGB :\n",
      "Accuracy Score:  0.9771428571428571\n",
      "AUC ROC score :  0.779\n",
      "Classification Matrix :                precision    recall  f1-score   support\n",
      "\n",
      "           0       0.98      1.00      0.99      1500\n",
      "           1       0.93      0.56      0.70        75\n",
      "\n",
      "   micro avg       0.98      0.98      0.98      1575\n",
      "   macro avg       0.96      0.78      0.84      1575\n",
      "weighted avg       0.98      0.98      0.97      1575\n",
      "\n",
      "Confusion Matrix:  [[1497    3]\n",
      " [  33   42]]\n"
     ]
    },
    {
     "data": {
      "image/png": "[encoded data removed]",
      "text/plain": [
       "<Figure size 432x432 with 1 Axes>"
      ]
     },
     "metadata": {
      "needs_background": "light"
     },
     "output_type": "display_data"
    },
    {
     "data": {
      "image/png": "[encoded data removed]",
      "text/plain": [
       "<Figure size 432x432 with 1 Axes>"
      ]
     },
     "metadata": {
      "needs_background": "light"
     },
     "output_type": "display_data"
    },
    {
     "data": {
      "image/png": "[encoded data removed]",
      "text/plain": [
       "<Figure size 432x432 with 1 Axes>"
      ]
     },
     "metadata": {
      "needs_background": "light"
     },
     "output_type": "display_data"
    }
   ],
   "source": [
    "lr = LogisticRegression(**grid_result_lr.best_params_)\n",
    "y_pred_lr = lr.fit(train_X,train_Y).predict(test_X)\n",
    "print(\"Metrics for Logistic Regression :\")\n",
    "get_metrics(test_Y,y_pred_lr)\n",
    "\n",
    "rf = RandomForestClassifier(**grid_result_rf.best_params_)\n",
    "y_pred_rf = rf.fit(train_X,train_Y).predict(test_X)\n",
    "print(\"Metrics for Random Forest :\")\n",
    "get_metrics(test_Y,y_pred_rf)\n",
    "\n",
    "\n",
    "xgb = XGBClassifier(**grid_result_xgb.best_params_)\n",
    "y_pred_xgb = xgb.fit(train_X,train_Y).predict(test_X)\n",
    "print(\"Metrics for XGB :\")\n",
    "get_metrics(test_Y,y_pred_xgb)"
   ]
  },
  {
   "cell_type": "markdown",
   "metadata": {},
   "source": [
    "Here we can conclude that Random Forest performs the best and should be used as the final model"
   ]
  },
  {
   "cell_type": "markdown",
   "metadata": {},
   "source": [
    "# SHAP and feature importances"
   ]
  },
  {
   "cell_type": "code",
   "execution_count": 71,
   "metadata": {},
   "outputs": [],
   "source": [
    "import shap"
   ]
  },
  {
   "cell_type": "code",
   "execution_count": 74,
   "metadata": {},
   "outputs": [],
   "source": [
    "explainer = shap.TreeExplainer(rf)\n",
    "shap_values = explainer.shap_values(train_X)"
   ]
  },
  {
   "cell_type": "code",
   "execution_count": 75,
   "metadata": {},
   "outputs": [
    {
     "data": {
      "image/png": "[encoded data removed]",
      "text/plain": [
       "<Figure size 576x684 with 1 Axes>"
      ]
     },
     "metadata": {
      "needs_background": "light"
     },
     "output_type": "display_data"
    }
   ],
   "source": [
    "shap.summary_plot(shap_values, train_X)"
   ]
  },
  {
   "cell_type": "code",
   "execution_count": 81,
   "metadata": {},
   "outputs": [
    {
     "data": {
      "text/plain": [
       "([<matplotlib.axis.XTick at 0x24a226f8860>,\n",
       "  <matplotlib.axis.XTick at 0x24a226f85c0>,\n",
       "  <matplotlib.axis.XTick at 0x24a226f8898>,\n",
       "  <matplotlib.axis.XTick at 0x24a4bd99b38>,\n",
       "  <matplotlib.axis.XTick at 0x24a4bd99d68>,\n",
       "  <matplotlib.axis.XTick at 0x24a4bda84a8>,\n",
       "  <matplotlib.axis.XTick at 0x24a4bda8940>,\n",
       "  <matplotlib.axis.XTick at 0x24a4bda8dd8>,\n",
       "  <matplotlib.axis.XTick at 0x24a4bdab2b0>,\n",
       "  <matplotlib.axis.XTick at 0x24a4bda8a20>,\n",
       "  <matplotlib.axis.XTick at 0x24a4bdab400>,\n",
       "  <matplotlib.axis.XTick at 0x24a4bdab898>,\n",
       "  <matplotlib.axis.XTick at 0x24a4bdabd30>,\n",
       "  <matplotlib.axis.XTick at 0x24a4bdee208>,\n",
       "  <matplotlib.axis.XTick at 0x24a4bdee6a0>,\n",
       "  <matplotlib.axis.XTick at 0x24a4bdeeb38>,\n",
       "  <matplotlib.axis.XTick at 0x24a4bdeed68>,\n",
       "  <matplotlib.axis.XTick at 0x24a4bdea4a8>,\n",
       "  <matplotlib.axis.XTick at 0x24a4bdee9b0>,\n",
       "  <matplotlib.axis.XTick at 0x24a4bdabc88>,\n",
       "  <matplotlib.axis.XTick at 0x24a4bdea860>,\n",
       "  <matplotlib.axis.XTick at 0x24a4bdeaba8>,\n",
       "  <matplotlib.axis.XTick at 0x24a4bde40f0>,\n",
       "  <matplotlib.axis.XTick at 0x24a4bde4518>,\n",
       "  <matplotlib.axis.XTick at 0x24a4bde49b0>,\n",
       "  <matplotlib.axis.XTick at 0x24a4bde4e48>,\n",
       "  <matplotlib.axis.XTick at 0x24a4bdfa320>,\n",
       "  <matplotlib.axis.XTick at 0x24a4bdfa7b8>,\n",
       "  <matplotlib.axis.XTick at 0x24a4bde4828>],\n",
       " <a list of 29 Text major ticklabel objects>)"
      ]
     },
     "execution_count": 81,
     "metadata": {},
     "output_type": "execute_result"
    },
    {
     "data": {
      "image/png": "[encoded data removed]",
      "text/plain": [
       "<Figure size 1440x216 with 1 Axes>"
      ]
     },
     "metadata": {
      "needs_background": "light"
     },
     "output_type": "display_data"
    }
   ],
   "source": [
    "import numpy as np\n",
    "plt.plot(rf.feature_importances_)\n",
    "plt.xticks(np.arange(train_X.shape[1]), rotation=90)"
   ]
  },
  {
   "cell_type": "markdown",
   "metadata": {},
   "source": [
    "SHAP and random forest feature importance match here as expected. "
   ]
  },
  {
   "cell_type": "code",
   "execution_count": null,
   "metadata": {},
   "outputs": [],
   "source": []
  }
 ],
 "metadata": {
  "kernelspec": {
   "display_name": "Python 3",
   "language": "python",
   "name": "python3"
  },
  "language_info": {
   "codemirror_mode": {
    "name": "ipython",
    "version": 3
   },
   "file_extension": ".py",
   "mimetype": "text/x-python",
   "name": "python",
   "nbconvert_exporter": "python",
   "pygments_lexer": "ipython3",
   "version": "3.7.1"
  }
 },
 "nbformat": 4,
 "nbformat_minor": 4
}
